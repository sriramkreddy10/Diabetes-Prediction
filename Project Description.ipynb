{
 "cells": [
  {
   "cell_type": "markdown",
   "metadata": {},
   "source": [
    "### Goal\n",
    "Predicit wheather a patient is diabetic or not based on the attributes given in the dataset. Use Supervised machine learning Techniques to predict the target values for the test.csv. \n",
    "\n",
    "### Attributes\n",
    "\n",
    "- A: Number of pregnancies\n",
    "- B: Concentration of plasma glucose in a 2-hour oral glucose tolerance test\n",
    "- C: Diastolic blood pressure - Measured in mmHg\n",
    "- D: Triceps skin fold thickness - Measured in mm\n",
    "- E: Insulin concentration in the serum in 2 hours. Measured in (mu U/ml)\n",
    "- F: Weight in kg/height in (m^2)\n",
    "- G: Function that assigns the probability of someone getting diabetes\n",
    "- H: Age\n",
    "- Target: Value of 0 or 1 corresponds to no diabetes and diabetes\n",
    "\n",
    "### Project Devliverable\n",
    " iPython notebook or the .py file of Code. create a csv file of the prediction made. \n",
    "\n"
   ]
  },
  {
   "cell_type": "code",
   "execution_count": null,
   "metadata": {},
   "outputs": [],
   "source": []
  }
 ],
 "metadata": {
  "kernelspec": {
   "display_name": "Python 3",
   "language": "python",
   "name": "python3"
  },
  "language_info": {
   "codemirror_mode": {
    "name": "ipython",
    "version": 3
   },
   "file_extension": ".py",
   "mimetype": "text/x-python",
   "name": "python",
   "nbconvert_exporter": "python",
   "pygments_lexer": "ipython3",
   "version": "3.7.4"
  }
 },
 "nbformat": 4,
 "nbformat_minor": 2
}
